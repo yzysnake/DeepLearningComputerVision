{
 "cells": [
  {
   "cell_type": "code",
   "execution_count": 6,
   "id": "initial_id",
   "metadata": {
    "collapsed": true,
    "ExecuteTime": {
     "end_time": "2024-06-17T22:09:54.144478Z",
     "start_time": "2024-06-17T22:09:54.142149Z"
    }
   },
   "outputs": [],
   "source": [
    "from sklearn.linear_model import LogisticRegression\n",
    "from sklearn.svm import SVC\n",
    "from sklearn.metrics import accuracy_score\n",
    "\n",
    "import numpy as np"
   ]
  },
  {
   "cell_type": "code",
   "outputs": [],
   "source": [],
   "metadata": {
    "collapsed": false
   },
   "id": "ee4e196971582e58"
  },
  {
   "cell_type": "markdown",
   "source": [
    "## 2."
   ],
   "metadata": {
    "collapsed": false
   },
   "id": "14095ea185f9fe40"
  },
  {
   "cell_type": "markdown",
   "source": [
    "### Prepare data for each gate"
   ],
   "metadata": {
    "collapsed": false
   },
   "id": "63491fd9b72bfb01"
  },
  {
   "cell_type": "code",
   "outputs": [],
   "source": [
    "# Define the truth tables for the gates\n",
    "X = np.array([[0, 0], [0, 1], [1, 0], [1, 1]])\n",
    "y_and = np.array([0, 0, 0, 1])\n",
    "y_or = np.array([0, 1, 1, 1])\n",
    "y_xor = np.array([0, 1, 1, 0])\n",
    "y_nand = np.array([1, 1, 1, 0])"
   ],
   "metadata": {
    "collapsed": false,
    "ExecuteTime": {
     "end_time": "2024-06-17T22:08:06.453009Z",
     "start_time": "2024-06-17T22:08:06.450262Z"
    }
   },
   "id": "3d3410fc99faa1d7",
   "execution_count": 4
  },
  {
   "cell_type": "markdown",
   "source": [
    "### Create models"
   ],
   "metadata": {
    "collapsed": false
   },
   "id": "bcbe435cb134de45"
  },
  {
   "cell_type": "code",
   "outputs": [],
   "source": [
    "# Initialize models\n",
    "logistic_regression = LogisticRegression()\n",
    "svc = SVC() # rbf as kernel default"
   ],
   "metadata": {
    "collapsed": false,
    "ExecuteTime": {
     "end_time": "2024-06-17T22:21:16.508965Z",
     "start_time": "2024-06-17T22:21:16.506021Z"
    }
   },
   "id": "b47a5608fa0103",
   "execution_count": 11
  },
  {
   "cell_type": "markdown",
   "source": [
    "### Train the models "
   ],
   "metadata": {
    "collapsed": false
   },
   "id": "81da0d2e0ba32b83"
  },
  {
   "cell_type": "code",
   "outputs": [],
   "source": [
    "# Train and evaluate models for each gate\n",
    "results = {}\n",
    "for gate_name, y in zip(['AND', 'OR', 'XOR', 'NAND'], [y_and, y_or, y_xor, y_nand]):\n",
    "    # Train Logistic Regression\n",
    "    logistic_regression.fit(X, y)\n",
    "    y_pred_lr = logistic_regression.predict(X)\n",
    "    accuracy_lr = accuracy_score(y, y_pred_lr)\n",
    "\n",
    "    # Train SVC\n",
    "    svc.fit(X, y)\n",
    "    y_pred_svc = svc.predict(X)\n",
    "    accuracy_svc = accuracy_score(y, y_pred_svc)\n",
    "\n",
    "    # Store results\n",
    "    results[gate_name] = {\n",
    "        'Logistic Regression': {'predictions': y_pred_lr, 'accuracy': accuracy_lr},\n",
    "        'SVC': {'predictions': y_pred_svc, 'accuracy': accuracy_svc}\n",
    "    }\n"
   ],
   "metadata": {
    "collapsed": false,
    "ExecuteTime": {
     "end_time": "2024-06-17T22:21:17.688221Z",
     "start_time": "2024-06-17T22:21:17.677826Z"
    }
   },
   "id": "316b0d456dd3e2c9",
   "execution_count": 12
  },
  {
   "cell_type": "code",
   "outputs": [
    {
     "name": "stdout",
     "output_type": "stream",
     "text": [
      "{'AND': {'Logistic Regression': {'predictions': array([0, 0, 0, 0]), 'accuracy': 0.75}, 'SVC': {'predictions': array([0, 0, 0, 1]), 'accuracy': 1.0}}, 'OR': {'Logistic Regression': {'predictions': array([1, 1, 1, 1]), 'accuracy': 0.75}, 'SVC': {'predictions': array([0, 1, 1, 1]), 'accuracy': 1.0}}, 'XOR': {'Logistic Regression': {'predictions': array([0, 0, 0, 0]), 'accuracy': 0.5}, 'SVC': {'predictions': array([0, 1, 1, 0]), 'accuracy': 1.0}}, 'NAND': {'Logistic Regression': {'predictions': array([1, 1, 1, 1]), 'accuracy': 0.75}, 'SVC': {'predictions': array([1, 1, 1, 0]), 'accuracy': 1.0}}}\n"
     ]
    }
   ],
   "source": [
    "print(results)"
   ],
   "metadata": {
    "collapsed": false,
    "ExecuteTime": {
     "end_time": "2024-06-17T22:21:21.311817Z",
     "start_time": "2024-06-17T22:21:21.308948Z"
    }
   },
   "id": "e3c34fd2d07522af",
   "execution_count": 13
  },
  {
   "cell_type": "markdown",
   "source": [
    "* Logistic Regression: This model struggles with these logic gates because it is a linear model and tends to predict the majority class, especially in imbalanced datasets. It cannot capture the non-linear relationships required for gates like XOR. \n",
    "* SVC with RBF Kernel: This model performs perfectly for all gates because the RBF kernel can capture non-linear patterns, which is crucial for learning the behavior of gates like XOR and NAND"
   ],
   "metadata": {
    "collapsed": false
   },
   "id": "178f1f9faa8f934f"
  },
  {
   "cell_type": "markdown",
   "source": [
    "## 3."
   ],
   "metadata": {
    "collapsed": false
   },
   "id": "9673711262a3b061"
  },
  {
   "cell_type": "markdown",
   "source": [
    "### Create 2000 random imbalanced data"
   ],
   "metadata": {
    "collapsed": false
   },
   "id": "fe4d426b61d34d71"
  },
  {
   "cell_type": "code",
   "outputs": [],
   "source": [],
   "metadata": {
    "collapsed": false,
    "ExecuteTime": {
     "end_time": "2024-06-17T22:23:47.049454Z",
     "start_time": "2024-06-17T22:23:47.047824Z"
    }
   },
   "id": "68085265b50d5398",
   "execution_count": 13
  },
  {
   "cell_type": "code",
   "outputs": [],
   "source": [],
   "metadata": {
    "collapsed": false,
    "ExecuteTime": {
     "end_time": "2024-06-17T22:23:47.198635Z",
     "start_time": "2024-06-17T22:23:47.196995Z"
    }
   },
   "id": "406b51bd7a477d3b",
   "execution_count": 13
  },
  {
   "cell_type": "code",
   "outputs": [],
   "source": [],
   "metadata": {
    "collapsed": false,
    "ExecuteTime": {
     "end_time": "2024-06-17T22:23:47.345571Z",
     "start_time": "2024-06-17T22:23:47.343984Z"
    }
   },
   "id": "cdd8757ba0aa3f3b",
   "execution_count": 13
  },
  {
   "cell_type": "code",
   "outputs": [],
   "source": [],
   "metadata": {
    "collapsed": false,
    "ExecuteTime": {
     "end_time": "2024-06-17T22:23:47.484702Z",
     "start_time": "2024-06-17T22:23:47.483044Z"
    }
   },
   "id": "c14b937a83b2c41c",
   "execution_count": 13
  },
  {
   "cell_type": "code",
   "outputs": [],
   "source": [],
   "metadata": {
    "collapsed": false
   },
   "id": "b1261887407f33c5"
  }
 ],
 "metadata": {
  "kernelspec": {
   "display_name": "Python 3",
   "language": "python",
   "name": "python3"
  },
  "language_info": {
   "codemirror_mode": {
    "name": "ipython",
    "version": 2
   },
   "file_extension": ".py",
   "mimetype": "text/x-python",
   "name": "python",
   "nbconvert_exporter": "python",
   "pygments_lexer": "ipython2",
   "version": "2.7.6"
  }
 },
 "nbformat": 4,
 "nbformat_minor": 5
}
